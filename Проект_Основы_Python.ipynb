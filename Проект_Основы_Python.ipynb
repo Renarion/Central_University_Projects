{
 "cells": [
  {
   "cell_type": "markdown",
   "id": "b876390302621070",
   "metadata": {
    "id": "b876390302621070"
   },
   "source": [
    "# Консольная игра 2048\n",
    "\n"
   ]
  },
  {
   "cell_type": "markdown",
   "id": "1a3ee9cf7bbd8c67",
   "metadata": {
    "id": "1a3ee9cf7bbd8c67"
   },
   "source": [
    "## **Описание проекта**\n",
    "\n",
    "В рамках этого проекта тебе будет нужно создать консольное приложение, реализующее популярную игру 2048. Игра представляет собой поле 4 × 4, на котором игрок должен объединять одинаковые плитки с числами, чтобы получить плитку с числом 2048.\n",
    "\n",
    "В результате студент получит готовую консольную игру 2048, которую можно запускать в терминале.\n"
   ]
  },
  {
   "cell_type": "markdown",
   "id": "3660e0ebff23f84f",
   "metadata": {
    "id": "3660e0ebff23f84f"
   },
   "source": [
    "## **Цель**\n",
    "\n",
    "Разработать консольную игру 2048 на Python с использованием ООП, обработкой ошибок, пользовательским вводом,\n",
    "коллекциями и функционалом сохранения/загрузки игрового состояния из файла."
   ]
  },
  {
   "cell_type": "markdown",
   "id": "d41220bba4c67737",
   "metadata": {
    "id": "d41220bba4c67737"
   },
   "source": [
    "## **Основные задачи проекта**\n",
    "\n",
    "Задачи построены таким образом, чтобы итеративно дойти до «идеального решения». Ты можешь не следовать такому порядку\n",
    "задач, а сразу писать так, как привык. **Но рекомендуем всё же идти по такому плану**:"
   ]
  },
  {
   "cell_type": "markdown",
   "id": "dc37fb10282c48e5",
   "metadata": {
    "id": "dc37fb10282c48e5"
   },
   "source": [
    "### Задача 1\n",
    "\n",
    "Создай класс `Field`. Для начала в этом классе просто реализуем методы:\n",
    "\n",
    "- `__init__(self)` — в нём создаётся изначальное поле 4 × 4.\n",
    "- `print(self)` — в нём мы будем «красиво» выводить наше поле в консоль.\n",
    "\n",
    "  Мы предлагаем следующий формат поля:\n",
    "  ```\n",
    "    +-----+-----+-----+-----+\n",
    "    |     |     |     |     |\n",
    "    +-----+-----+-----+-----+\n",
    "    |     |     |     |     |\n",
    "    +-----+-----+-----+-----+\n",
    "    |     |     |     |     |\n",
    "    +-----+-----+-----+-----+\n",
    "    |     |     |     |     |\n",
    "    +-----+-----+-----+-----+\n",
    "   ```\n",
    "  Между `|` ровно 5 пробелов."
   ]
  },
  {
   "cell_type": "code",
   "execution_count": null,
   "id": "7d36493a",
   "metadata": {},
   "outputs": [],
   "source": []
  },
  {
   "cell_type": "code",
   "execution_count": null,
   "id": "542f7891ffd6cbdf",
   "metadata": {
    "ExecuteTime": {
     "end_time": "2025-06-09T09:31:36.671526Z",
     "start_time": "2025-06-09T09:31:36.668348Z"
    },
    "id": "542f7891ffd6cbdf"
   },
   "outputs": [],
   "source": [
    "# Напиши свой код тут\n",
    "\n",
    "class Field:\n",
    "    def __init__(self):\n",
    "\n",
    "        self.grid = [[0 for _ in range(4)] for _ in range(4)]\n",
    "\n",
    "\n",
    "    def print(self):\n",
    "\n",
    "        separator = \"+-----+-----+-----+-----+\"\n",
    "        print(separator)\n",
    "        for row in self.grid:\n",
    "            row_str = \"|\"\n",
    "            for tile in row:\n",
    "                if tile == 0:\n",
    "                    row_str += \"     |\"  \n",
    "                else:\n",
    "                    row_str += str(tile).center(5) + \"|\"\n",
    "            print(row_str)\n",
    "            print(separator)\n"
   ]
  },
  {
   "cell_type": "code",
   "execution_count": 47,
   "id": "6af598d8",
   "metadata": {},
   "outputs": [
    {
     "name": "stdout",
     "output_type": "stream",
     "text": [
      "+-----+-----+-----+-----+\n",
      "[0, 0, 0, 0]\n",
      "0\n",
      "|     |\n",
      "0\n",
      "|     |     |\n",
      "0\n",
      "|     |     |     |\n",
      "0\n",
      "|     |     |     |     |\n",
      "[0, 0, 0, 0]\n",
      "0\n",
      "|     |\n",
      "0\n",
      "|     |     |\n",
      "0\n",
      "|     |     |     |\n",
      "0\n",
      "|     |     |     |     |\n",
      "[0, 0, 0, 0]\n",
      "0\n",
      "|     |\n",
      "0\n",
      "|     |     |\n",
      "0\n",
      "|     |     |     |\n",
      "0\n",
      "|     |     |     |     |\n",
      "[0, 0, 0, 0]\n",
      "0\n",
      "|     |\n",
      "0\n",
      "|     |     |\n",
      "0\n",
      "|     |     |     |\n",
      "0\n",
      "|     |     |     |     |\n"
     ]
    }
   ],
   "source": [
    "separator = \"+-----+-----+-----+-----+\"\n",
    "print(separator)\n",
    "\n",
    "for i in [[0 for _ in range(4)] for _ in range(4)]:\n",
    "    print(i)\n",
    "    row_str = \"|\"\n",
    "    for x in i:\n",
    "        print(x)\n",
    "        if x ==0:\n",
    "            row_str += \"     |\"\n",
    "            print(row_str)\n",
    "        else:\n",
    "            row_str += str(tile).center(5) + \"|\"\n",
    "    # print(row_str)\n",
    "    # print(separator)\n"
   ]
  },
  {
   "cell_type": "code",
   "execution_count": 40,
   "id": "a2495a92",
   "metadata": {},
   "outputs": [
    {
     "name": "stdout",
     "output_type": "stream",
     "text": [
      "+-----+-----+-----+-----+\n",
      "|     |     |     |     |\n",
      "+-----+-----+-----+-----+\n",
      "|     |     |     |     |\n",
      "+-----+-----+-----+-----+\n",
      "|     |     |     |     |\n",
      "+-----+-----+-----+-----+\n",
      "|     |     |     |     |\n",
      "+-----+-----+-----+-----+\n"
     ]
    }
   ],
   "source": [
    "board = Field()\n",
    "\n",
    "board.print()"
   ]
  },
  {
   "cell_type": "markdown",
   "id": "aab31867-3719-4fa4-9723-1787937496c6",
   "metadata": {},
   "source": [
    "Для проверки, что всё работает, создай экземпляр класса `Field` и вызови метод `print` — посмотри, что у тебя получилось.\n",
    "\n",
    "Чтобы убедиться, что мы друг друга поняли, запусти тесты по кнопке ниже."
   ]
  },
  {
   "cell_type": "code",
   "execution_count": null,
   "id": "17d72149-9169-49be-a054-0d34d93147ba",
   "metadata": {},
   "outputs": [
    {
     "data": {
      "application/vnd.jupyter.widget-view+json": {
       "model_id": "b60ed302d58140ec9e34e052dac2b766",
       "version_major": 2,
       "version_minor": 0
      },
      "text/plain": [
       "Button(description='Проверить решение', style=ButtonStyle())"
      ]
     },
     "metadata": {},
     "output_type": "display_data"
    },
    {
     "data": {
      "application/vnd.jupyter.widget-view+json": {
       "model_id": "0d7e52bf7a2942c3ad14e46e25c56fd8",
       "version_major": 2,
       "version_minor": 0
      },
      "text/plain": [
       "Output()"
      ]
     },
     "metadata": {},
     "output_type": "display_data"
    }
   ],
   "source": [
    "# tests\n",
    "\n",
    "# Не редактуруй и не удаляй эту ячейку! \n",
    "# Запусти ее и нажми на кнопку \"Проверить решение\" чтобы проверить твое решение автотестами\n",
    "import base64\n",
    "import ipywidgets as widgets\n",
    "from IPython.display import display, clear_output\n",
    "\n",
    "b64code = \"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\"\n",
    "\n",
    "button = widgets.Button(description=\"Проверить решение\")\n",
    "out = widgets.Output()\n",
    "\n",
    "def on_button_clicked(b):\n",
    "    with out:\n",
    "        clear_output()\n",
    "        code = base64.b64decode(b64code).decode('utf-8')\n",
    "        exec(code, globals())\n",
    "\n",
    "button.on_click(on_button_clicked)\n",
    "display(button, out)"
   ]
  },
  {
   "cell_type": "markdown",
   "id": "5d40f1041f16532e",
   "metadata": {
    "id": "5d40f1041f16532e"
   },
   "source": [
    "### Задача 2\n",
    "\n",
    "Создай класс `FieldCell` — клетка игрового поля. Реализуй в этом классе методы:\n",
    "\n",
    "- `__init__(self)` — создаёт клетку со значением в ней `0`, все клетки изначально пустые.\n",
    "- `init_value(self)` — отвечает за инициализацию начального значения клетки.\n",
    "\n",
    "  В игре после каждого хода у какой-то случайной из пустых клеток ставится значение 2 или 4, обычно 2 чаще, чем 4.\n",
    "- `get_value_for_print(self)` — отвечает за текстовый вывод значения клетки:\n",
    "    - Если клетка пустая, то нужно вернуть пустую строку.\n",
    "    - Если клетка не пустая, то нужно вернуть её строкой.\n",
    "\n",
    "  Этот метод нужен для того, чтобы поле не «задумывалось» о том, как принтовать поле.\n",
    "- `is_empty(self)` — говорит, пустая ли клетка.\n",
    "- `set_empty_value(self)` — просто устанавливает пустое значение для клетки (то есть `0`). Например, после какого-то\n",
    "  сдвига значение из клетки может очиститься.\n",
    "- `try_merge(self, another_ceil: 'FieldCeil') -> bool` — при сдвиге нужно менять значение двух соседних клеток (грубо\n",
    "  говоря, одна перетекает в другую).\n",
    "\n",
    "  Это будет работать следующим образом:\n",
    "    - Если две клетки имеют одинаковое значение либо у клетки `self` пустое значение, то клетке `self` добавляется\n",
    "      значение клетки `another`, а значение у клетки `another` становится `0`.\n",
    "    - Если же клетка `self` не пустая и при этом её значение не равно значению `another`, «мёрдж не происходит».\n",
    "\n",
    "  Возвращается `bool` — получился ли мёрдж."
   ]
  },
  {
   "cell_type": "code",
   "execution_count": 83,
   "id": "9a0e28cfbc16f35b",
   "metadata": {
    "ExecuteTime": {
     "end_time": "2025-06-09T09:31:42.882786Z",
     "start_time": "2025-06-09T09:31:42.881137Z"
    },
    "id": "9a0e28cfbc16f35b"
   },
   "outputs": [],
   "source": [
    "# Напиши свой код тут\n",
    "import random\n",
    "\n",
    "class FieldCell:\n",
    "    def __init__(self):\n",
    "        \"\"\"\n",
    "        Создаёт клетку со значением 0.\n",
    "        \"\"\"\n",
    "        self.value = 0\n",
    "\n",
    "    def init_value(self):\n",
    "        \"\"\"\n",
    "        Инициализирует начальное значение клетки (2 или 4).\n",
    "        Значение 2 выпадает чаще.\n",
    "        \"\"\"\n",
    "        # С вероятностью 90% значение будет 2, с 10% - 4.\n",
    "        self.value = random.choices([2, 4], weights=[0.9, 0.1])[0]\n",
    "\n",
    "    def get_value_for_print(self) -> str:\n",
    "        \"\"\"\n",
    "        Возвращает строковое представление значения клетки для вывода.\n",
    "        Если клетка пустая (значение 0), возвращает пустую строку.\n",
    "        \"\"\"\n",
    "        if self.is_empty():\n",
    "            return \"\"\n",
    "        return str(self.value)\n",
    "\n",
    "    def is_empty(self) -> bool:\n",
    "        \"\"\"\n",
    "        Проверяет, пустая ли клетка.\n",
    "        \"\"\"\n",
    "        return self.value == 0\n",
    "\n",
    "    def set_empty_value(self):\n",
    "        \"\"\"\n",
    "        Устанавливает пустое значение (0) для клетки.\n",
    "        \"\"\"\n",
    "        self.value = 0\n",
    "\n",
    "    def try_merge(self, another_cell: 'FieldCell') -> bool:\n",
    "        \"\"\"\n",
    "        Пытается объединить две клетки.\n",
    "        Возвращает True, если слияние произошло, иначе False.\n",
    "        \"\"\"\n",
    "        # Если клетка, в которую пытаемся \"перенести\", пустая, просто перемещаем значение\n",
    "        if self.is_empty():\n",
    "            if not another_cell.is_empty():\n",
    "                self.value = another_cell.value\n",
    "                another_cell.set_empty_value()\n",
    "                return True\n",
    "            return False\n",
    "\n",
    "        # Если значения равны, объединяем их\n",
    "        if self.value == another_cell.value:\n",
    "            self.value *= 2\n",
    "            another_cell.set_empty_value()\n",
    "            return True\n",
    "        \n",
    "        # Если значения не равны и self не пустая, слияния не происходит\n",
    "        return False"
   ]
  },
  {
   "cell_type": "code",
   "execution_count": 89,
   "id": "d49099f0",
   "metadata": {},
   "outputs": [
    {
     "name": "stdout",
     "output_type": "stream",
     "text": [
      "Клетка 1 (изначально): \n",
      "Клетка 1 (инициализирована): 2\n",
      "--------------------\n",
      "До слияния: cell2 = 2, cell3 = 2\n",
      "Произошло слияние: True\n",
      "После слияния: cell2 = 4, cell3 = 0\n",
      "--------------------\n",
      "До перемещения: cell4 = 0, cell5 = 4\n",
      "Произошло перемещение: True\n",
      "После перемещения: cell4 = 4, cell5 = 0\n",
      "--------------------\n",
      "До слияния: cell6 = 2, cell7 = 4\n",
      "Произошло слияние: False\n",
      "После слияния: cell6 = 2, cell7 = 4\n"
     ]
    }
   ],
   "source": [
    "# 1. Проверка инициализации и вывода\n",
    "cell1 = FieldCell()\n",
    "print(f\"Клетка 1 (изначально): {cell1.get_value_for_print()}\")\n",
    "cell1.init_value()\n",
    "print(f\"Клетка 1 (инициализирована): {cell1.get_value_for_print()}\")\n",
    "\n",
    "print(\"-\" * 20)\n",
    "\n",
    "# 2. Проверка слияния\n",
    "cell2 = FieldCell()\n",
    "cell3 = FieldCell()\n",
    "cell2.value = 2  # Устанавливаем значения вручную для примера\n",
    "cell3.value = 2\n",
    "\n",
    "print(f\"До слияния: cell2 = {cell2.value}, cell3 = {cell3.value}\")\n",
    "merged = cell2.try_merge(cell3)\n",
    "print(f\"Произошло слияние: {merged}\")\n",
    "print(f\"После слияния: cell2 = {cell2.value}, cell3 = {cell3.value}\")\n",
    "\n",
    "print(\"-\" * 20)\n",
    "\n",
    "# 3. Проверка перемещения (когда одна из клеток пустая)\n",
    "cell4 = FieldCell()\n",
    "cell5 = FieldCell()\n",
    "cell5.value = 4\n",
    "\n",
    "print(f\"До перемещения: cell4 = {cell4.value}, cell5 = {cell5.value}\")\n",
    "merged = cell4.try_merge(cell5)\n",
    "print(f\"Произошло перемещение: {merged}\")\n",
    "print(f\"После перемещения: cell4 = {cell4.value}, cell5 = {cell5.value}\")\n",
    "\n",
    "print(\"-\" * 20)\n",
    "\n",
    "# 4. Проверка, когда слияние невозможно\n",
    "cell6 = FieldCell()\n",
    "cell7 = FieldCell()\n",
    "cell6.value = 2\n",
    "cell7.value = 4\n",
    "\n",
    "print(f\"До слияния: cell6 = {cell6.value}, cell7 = {cell7.value}\")\n",
    "merged = cell6.try_merge(cell7)\n",
    "print(f\"Произошло слияние: {merged}\")\n",
    "print(f\"После слияния: cell6 = {cell6.value}, cell7 = {cell7.value}\")"
   ]
  },
  {
   "cell_type": "markdown",
   "id": "cd7f32bb4de26af0",
   "metadata": {
    "id": "cd7f32bb4de26af0"
   },
   "source": [
    "После создай экземпляр этого класса и поэкспериментируй с логикой работы, а потом можешь запустить тесты."
   ]
  },
  {
   "cell_type": "code",
   "execution_count": null,
   "id": "a7fcc8bc-eaa2-44bf-81be-d2b3f6a35140",
   "metadata": {},
   "outputs": [
    {
     "data": {
      "application/vnd.jupyter.widget-view+json": {
       "model_id": "f03a17db92df4fc48957518478faae1a",
       "version_major": 2,
       "version_minor": 0
      },
      "text/plain": [
       "Button(description='Проверить решение', style=ButtonStyle())"
      ]
     },
     "metadata": {},
     "output_type": "display_data"
    },
    {
     "data": {
      "application/vnd.jupyter.widget-view+json": {
       "model_id": "dac979112f2c497ab17bbf60f32fea06",
       "version_major": 2,
       "version_minor": 0
      },
      "text/plain": [
       "Output()"
      ]
     },
     "metadata": {},
     "output_type": "display_data"
    }
   ],
   "source": [
    "# tests\n",
    "\n",
    "# Не редактуруй и не удаляй эту ячейку! \n",
    "# Запусти ее и нажми на кнопку \"Проверить решение\" чтобы проверить твое решение автотестами\n",
    "import base64\n",
    "import ipywidgets as widgets\n",
    "from IPython.display import display, clear_output\n",
    "\n",
    "b64code = \"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\" \n",
    "\n",
    "button = widgets.Button(description=\"Проверить решение\")\n",
    "out = widgets.Output()\n",
    "\n",
    "def on_button_clicked(b):\n",
    "    with out:\n",
    "        clear_output()\n",
    "        code = base64.b64decode(b64code).decode('utf-8')\n",
    "        exec(code, globals())\n",
    "\n",
    "button.on_click(on_button_clicked)\n",
    "display(button, out)"
   ]
  },
  {
   "cell_type": "markdown",
   "id": "b2f9bfcf961738d0",
   "metadata": {
    "id": "b2f9bfcf961738d0"
   },
   "source": [
    "### Задача 3\n",
    "\n",
    "\n",
    "Теперь нужно объединить `FieldCell` и `Field`. Тебе нужно:\n",
    "\n",
    "- Разработать метод `init_random_ceil(self)`, который будет выбирать случайную **пустую** клетку поля и вызывать у неё\n",
    "  метод `init_value`.\n",
    "\n",
    "  Это нужно для того, чтобы после хода игрока спавнить значение в какой-то из пустых клеток поля. Не забудь, что может быть такая ситуация, что пустых клеток нет. В таком случае стоит выкидывать исключение `CantMoveException` (тебе его необходимо создать).\n",
    "- Отредактировать создание поле, чтобы там использовались `FieldCell` и вызывался метод `init_random_ceil`.\n",
    "- Отредактировать метод `print(self)`: используй метод `get_value_for_print` класса `FieldCell`.\n",
    "\n",
    "\n",
    "Теперь вернись к вызову кода с выводом поля и проверь, что у тебя в разных местах появляются 2 или 4."
   ]
  },
  {
   "cell_type": "code",
   "execution_count": 152,
   "id": "24ed278986c26072",
   "metadata": {
    "ExecuteTime": {
     "end_time": "2025-06-09T09:31:57.909811Z",
     "start_time": "2025-06-09T09:31:57.907525Z"
    },
    "id": "24ed278986c26072"
   },
   "outputs": [],
   "source": [
    "# Напиши свой код тут\n",
    "import random\n",
    "\n",
    "class CantMoveException(Exception):\n",
    "    \"\"\"\n",
    "    Исключение, выбрасываемое, когда невозможно сделать ход.\n",
    "    Например, когда на поле нет пустых клеток.\n",
    "    \"\"\"\n",
    "    pass\n",
    "\n",
    "\n",
    "class Field:\n",
    "    def __init__(self):\n",
    "        \"\"\"\n",
    "        Инициализирует поле 4x4, состоящее из объектов FieldCell.\n",
    "        Добавляет две начальные плитки.\n",
    "        \"\"\"\n",
    "        # Создаём двумерный список, заполненный экземплярами FieldCell\n",
    "        self.grid = [[FieldCell() for _ in range(4)] for _ in range(4)]\n",
    "        \n",
    "        # Добавляем две начальные плитки\n",
    "        self.init_random_ceil()\n",
    "        self.init_random_ceil()\n",
    "\n",
    "    def init_random_ceil(self):\n",
    "        \"\"\"\n",
    "        Выбирает случайную пустую клетку и инициализирует её значение.\n",
    "        Если пустых клеток нет, выбрасывает исключение CantMoveException.\n",
    "        \"\"\"\n",
    "        empty_cells = []\n",
    "        for r in range(4):\n",
    "            for c in range(4):\n",
    "                # Используем is_empty() из класса FieldCell\n",
    "                if self.grid[r][c].is_empty():\n",
    "                    empty_cells.append((r, c))\n",
    "\n",
    "        if not empty_cells:\n",
    "            # Если список пуст, значит, нет пустых клеток\n",
    "            raise CantMoveException(\"Невозможно добавить новую клетку, поле заполнено.\")\n",
    "\n",
    "        # Выбираем случайную пустую клетку и инициализируем её\n",
    "        r, c = random.choice(empty_cells)\n",
    "        self.grid[r][c].init_value()\n",
    "\n",
    "    def print(self):\n",
    "        \"\"\"\n",
    "        Выводит поле в консоль, используя методы класса FieldCell.\n",
    "        \"\"\"\n",
    "        separator = \"+-----+-----+-----+-----+\"\n",
    "        print(separator)\n",
    "        for row in self.grid:\n",
    "            row_str = \"|\"\n",
    "            for cell in row:\n",
    "                # Используем get_value_for_print() из класса FieldCell\n",
    "                cell_value = cell.get_value_for_print()\n",
    "                # Центрируем строку значения в поле шириной 5 символов\n",
    "                row_str += cell_value.center(5) + \"|\"\n",
    "            print(row_str)\n",
    "            print(separator)"
   ]
  },
  {
   "cell_type": "code",
   "execution_count": 153,
   "id": "c5d0acae",
   "metadata": {},
   "outputs": [
    {
     "name": "stdout",
     "output_type": "stream",
     "text": [
      "Игровое поле:\n",
      "+-----+-----+-----+-----+\n",
      "|     |     |     |  2  |\n",
      "+-----+-----+-----+-----+\n",
      "|  2  |     |     |     |\n",
      "+-----+-----+-----+-----+\n",
      "|     |     |     |     |\n",
      "+-----+-----+-----+-----+\n",
      "|     |     |     |     |\n",
      "+-----+-----+-----+-----+\n",
      "\n",
      "Добавлена еще одна случайная плитка:\n",
      "+-----+-----+-----+-----+\n",
      "|     |     |     |  2  |\n",
      "+-----+-----+-----+-----+\n",
      "|  2  |     |     |     |\n",
      "+-----+-----+-----+-----+\n",
      "|     |     |     |     |\n",
      "+-----+-----+-----+-----+\n",
      "|     |     |     |  2  |\n",
      "+-----+-----+-----+-----+\n"
     ]
    }
   ],
   "source": [
    "# --- Код для проверки ---\n",
    "\n",
    "# Создаём экземпляр класса Field\n",
    "my_field = Field()\n",
    "\n",
    "# Выводим поле на экран\n",
    "print(\"Игровое поле:\")\n",
    "my_field.print()\n",
    "\n",
    "# Пример попытки добавить новую плитку\n",
    "try:\n",
    "    my_field.init_random_ceil()\n",
    "    print(\"\\nДобавлена еще одна случайная плитка:\")\n",
    "    my_field.print()\n",
    "except CantMoveException as e:\n",
    "    print(f\"\\nОшибка: {e}\")"
   ]
  },
  {
   "cell_type": "code",
   "execution_count": 139,
   "id": "45412228-0b24-44e1-abaf-2e0f99e9fcc9",
   "metadata": {},
   "outputs": [
    {
     "data": {
      "application/vnd.jupyter.widget-view+json": {
       "model_id": "68a512d7227145939b53bfa0b5d6b670",
       "version_major": 2,
       "version_minor": 0
      },
      "text/plain": [
       "Button(description='Проверить решение', style=ButtonStyle())"
      ]
     },
     "metadata": {},
     "output_type": "display_data"
    },
    {
     "data": {
      "application/vnd.jupyter.widget-view+json": {
       "model_id": "6344e192d2dd494991812671456aef35",
       "version_major": 2,
       "version_minor": 0
      },
      "text/plain": [
       "Output()"
      ]
     },
     "metadata": {},
     "output_type": "display_data"
    }
   ],
   "source": [
    "# tests\n",
    "\n",
    "# Не редактуруй и не удаляй эту ячейку! \n",
    "# Запусти ее и нажми на кнопку \"Проверить решение\" чтобы проверить твое решение автотестами\n",
    "import base64\n",
    "import ipywidgets as widgets\n",
    "from IPython.display import display, clear_output\n",
    "\n",
    "b64code = \"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\" \n",
    "\n",
    "button = widgets.Button(description=\"Проверить решение\")\n",
    "out = widgets.Output()\n",
    "\n",
    "def on_button_clicked(b):\n",
    "    with out:\n",
    "        clear_output()\n",
    "        code = base64.b64decode(b64code).decode('utf-8')\n",
    "        exec(code, globals())\n",
    "\n",
    "button.on_click(on_button_clicked)\n",
    "display(button, out)"
   ]
  },
  {
   "cell_type": "markdown",
   "id": "1845e9de7ec2aace",
   "metadata": {
    "id": "1845e9de7ec2aace"
   },
   "source": [
    "### Задача 4\n",
    "\n",
    "Теперь надо научиться двигать эту клетку. Тебе нужно разработать методы:\n",
    "\n",
    "- `move_left(self)`;\n",
    "- `move_right(self)`;\n",
    "- `move_down(self)`;\n",
    "- `move_up(self)`.\n",
    "\n",
    "После каждого такого хода вызывается метод `init_random_ceil`. В самом начале для наглядности лучше не вызывай его\n",
    "после хода (так тебе будет проще протестировать, что код хода работает), а потом уже можешь добавить вызов метода\n",
    "`init_random_ceil`.\n",
    "\n",
    "Будь внимателен: если после хода у всех клеток такое же значение, что и было, то не должно спавниться новое значение на\n",
    "поле."
   ]
  },
  {
   "cell_type": "code",
   "execution_count": 96,
   "id": "676ba7354ae91f3f",
   "metadata": {
    "ExecuteTime": {
     "end_time": "2025-06-09T09:32:05.623499Z",
     "start_time": "2025-06-09T09:32:05.621138Z"
    },
    "id": "676ba7354ae91f3f"
   },
   "outputs": [],
   "source": [
    "# Напиши свой код тут\n",
    "\n",
    "import random\n",
    "\n",
    "# Классы FieldCell и CantMoveException должны быть определены\n",
    "# в вашем коде выше.\n",
    "\n",
    "class Field:\n",
    "    def __init__(self):\n",
    "        self.grid = [[FieldCell() for _ in range(4)] for _ in range(4)]\n",
    "        self.init_random_ceil()\n",
    "        self.init_random_ceil()\n",
    "\n",
    "    def init_random_ceil(self):\n",
    "        empty_cells = []\n",
    "        for r in range(4):\n",
    "            for c in range(4):\n",
    "                if self.grid[r][c].is_empty():\n",
    "                    empty_cells.append((r, c))\n",
    "\n",
    "        if not empty_cells:\n",
    "            raise CantMoveException(\"Невозможно добавить новую клетку, поле заполнено.\")\n",
    "\n",
    "        r, c = random.choice(empty_cells)\n",
    "        self.grid[r][c].init_value()\n",
    "\n",
    "    def print(self):\n",
    "        separator = \"+-----+-----+-----+-----+\"\n",
    "        print(separator)\n",
    "        for row in self.grid:\n",
    "            row_str = \"|\"\n",
    "            for cell in row:\n",
    "                cell_value = cell.get_value_for_print()\n",
    "                row_str += cell_value.center(5) + \"|\"\n",
    "            print(row_str)\n",
    "            print(separator)\n",
    "\n",
    "    # --- Новые методы для движения ---\n",
    "\n",
    "    def _compact_and_merge_row(self, row):\n",
    "        \"\"\"\n",
    "        Вспомогательный метод для сжатия и объединения клеток в одном ряду слева.\n",
    "        Возвращает True, если поле изменилось.\n",
    "        \"\"\"\n",
    "        old_row = [cell.value for cell in row]\n",
    "        \n",
    "        # 1. Сжимаем ряд, убирая пустые клетки\n",
    "        new_row = [cell for cell in row if not cell.is_empty()]\n",
    "        \n",
    "        # 2. Объединяем одинаковые соседние клетки\n",
    "        i = 0\n",
    "        while i < len(new_row) - 1:\n",
    "            if new_row[i].value == new_row[i+1].value:\n",
    "                new_row[i].value *= 2\n",
    "                new_row.pop(i+1)\n",
    "            i += 1\n",
    "            \n",
    "        # 3. Заполняем оставшееся пространство пустыми клетками\n",
    "        while len(new_row) < 4:\n",
    "            new_row.append(FieldCell())\n",
    "            \n",
    "        # 4. Обновляем исходный ряд и проверяем, было ли изменение\n",
    "        moved = old_row != [cell.value for cell in new_row]\n",
    "        \n",
    "        return new_row, moved\n",
    "\n",
    "    def move_left(self):\n",
    "        \"\"\"Движение влево.\"\"\"\n",
    "        has_moved = False\n",
    "        new_grid = []\n",
    "        for r in range(4):\n",
    "            new_row, moved = self._compact_and_merge_row(self.grid[r])\n",
    "            if moved:\n",
    "                has_moved = True\n",
    "            new_grid.append(new_row)\n",
    "        \n",
    "        if has_moved:\n",
    "            self.grid = new_grid\n",
    "            self.init_random_ceil()\n",
    "\n",
    "    def move_right(self):\n",
    "        \"\"\"Движение вправо.\"\"\"\n",
    "        has_moved = False\n",
    "        new_grid = []\n",
    "        for r in range(4):\n",
    "            # Разворачиваем ряд, применяем логику сдвига влево и снова разворачиваем\n",
    "            row_to_process = self.grid[r][::-1]\n",
    "            new_row, moved = self._compact_and_merge_row(row_to_process)\n",
    "            \n",
    "            if moved:\n",
    "                has_moved = True\n",
    "            \n",
    "            new_grid.append(new_row[::-1])\n",
    "\n",
    "        if has_moved:\n",
    "            self.grid = new_grid\n",
    "            self.init_random_ceil()\n",
    "\n",
    "    def move_up(self):\n",
    "        \"\"\"Движение вверх.\"\"\"\n",
    "        has_moved = False\n",
    "        \n",
    "        # Транспонируем поле (поворачиваем на 90 градусов)\n",
    "        transposed_grid = list(zip(*self.grid))\n",
    "        new_grid_transposed = []\n",
    "        \n",
    "        for c in range(4):\n",
    "            # Применяем логику сдвига влево к каждому столбцу\n",
    "            new_col, moved = self._compact_and_merge_row(list(transposed_grid[c]))\n",
    "            \n",
    "            if moved:\n",
    "                has_moved = True\n",
    "            \n",
    "            new_grid_transposed.append(new_col)\n",
    "        \n",
    "        # Возвращаем поле в исходное положение (обратное транспонирование)\n",
    "        if has_moved:\n",
    "            self.grid = [list(row) for row in zip(*new_grid_transposed)]\n",
    "            self.init_random_ceil()\n",
    "\n",
    "    def move_down(self):\n",
    "        \"\"\"Движение вниз.\"\"\"\n",
    "        has_moved = False\n",
    "        \n",
    "        # Транспонируем поле\n",
    "        transposed_grid = list(zip(*self.grid))\n",
    "        new_grid_transposed = []\n",
    "        \n",
    "        for c in range(4):\n",
    "            # Разворачиваем столбец, сдвигаем влево, затем разворачиваем обратно\n",
    "            col_to_process = list(transposed_grid[c])[::-1]\n",
    "            new_col, moved = self._compact_and_merge_row(col_to_process)\n",
    "            \n",
    "            if moved:\n",
    "                has_moved = True\n",
    "            \n",
    "            new_grid_transposed.append(new_col[::-1])\n",
    "        \n",
    "        if has_moved:\n",
    "            self.grid = [list(row) for row in zip(*new_grid_transposed)]\n",
    "            self.init_random_ceil()"
   ]
  },
  {
   "cell_type": "code",
   "execution_count": 138,
   "id": "f175117a-6d53-46d4-bb5a-c88c03128bdf",
   "metadata": {},
   "outputs": [
    {
     "data": {
      "application/vnd.jupyter.widget-view+json": {
       "model_id": "9106be71bae342e58c54384bb0054265",
       "version_major": 2,
       "version_minor": 0
      },
      "text/plain": [
       "Button(description='Проверить решение', style=ButtonStyle())"
      ]
     },
     "metadata": {},
     "output_type": "display_data"
    },
    {
     "data": {
      "application/vnd.jupyter.widget-view+json": {
       "model_id": "92a12ce1dcab4071be3fcac26f9bfc37",
       "version_major": 2,
       "version_minor": 0
      },
      "text/plain": [
       "Output()"
      ]
     },
     "metadata": {},
     "output_type": "display_data"
    }
   ],
   "source": [
    "# tests\n",
    "\n",
    "# Не редактуруй и не удаляй эту ячейку! \n",
    "# Запусти ее и нажми на кнопку \"Проверить решение\" чтобы проверить твое решение автотестами\n",
    "import base64\n",
    "import ipywidgets as widgets\n",
    "from IPython.display import display, clear_output\n",
    "\n",
    "b64code = \"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\"\n",
    "button = widgets.Button(description=\"Проверить решение\")\n",
    "out = widgets.Output()\n",
    "\n",
    "def on_button_clicked(b):\n",
    "    with out:\n",
    "        clear_output()\n",
    "        code = base64.b64decode(b64code).decode('utf-8')\n",
    "        exec(code, globals())\n",
    "\n",
    "button.on_click(on_button_clicked)\n",
    "display(button, out)"
   ]
  },
  {
   "cell_type": "markdown",
   "id": "d763aff581af174c",
   "metadata": {
    "id": "d763aff581af174c"
   },
   "source": [
    "### Задача 5\n",
    "\n",
    "Логика игры полностью работает, но вот пользователю будет не очень удобно пользоваться такой игрой, где нужно постоянно\n",
    "вызывать методы. \n",
    "\n",
    "Поэтому нужно реализовать класс `Game`, который будет помогать пользователю играть в эту игру:\n",
    "\n",
    "- Метод `__init__` создаёт поле.\n",
    "- Метод `run` запускает игру. В этом методе нужно сделать бесконечный цикл, который будет выводить поле, а потом\n",
    "  спрашивать следующий ход у человека (через input) — для удобства назовём ходами строки `left, right, down, up`.\n",
    "\n",
    "Теперь можно удобно поиграть в игру :)"
   ]
  },
  {
   "cell_type": "code",
   "execution_count": 41,
   "id": "217bd021dcf72ff5",
   "metadata": {
    "ExecuteTime": {
     "end_time": "2025-06-09T09:32:09.703489Z",
     "start_time": "2025-06-09T09:32:09.701045Z"
    },
    "id": "217bd021dcf72ff5",
    "scrolled": true
   },
   "outputs": [],
   "source": [
    "# Напиши свой код тут"
   ]
  },
  {
   "cell_type": "code",
   "execution_count": 42,
   "id": "82739f2f-ef85-4d60-9563-8f15c0eed918",
   "metadata": {},
   "outputs": [
    {
     "data": {
      "application/vnd.jupyter.widget-view+json": {
       "model_id": "0f8a857ce9164ca4875afca1d9c7f618",
       "version_major": 2,
       "version_minor": 0
      },
      "text/plain": [
       "Button(description='Проверить решение', style=ButtonStyle())"
      ]
     },
     "metadata": {},
     "output_type": "display_data"
    },
    {
     "data": {
      "application/vnd.jupyter.widget-view+json": {
       "model_id": "ad2138768ee0437abcf5d3fda629d1fc",
       "version_major": 2,
       "version_minor": 0
      },
      "text/plain": [
       "Output()"
      ]
     },
     "metadata": {},
     "output_type": "display_data"
    }
   ],
   "source": [
    "# tests\n",
    "\n",
    "# Не редактуруй и не удаляй эту ячейку! \n",
    "# Запусти ее и нажми на кнопку \"Проверить решение\" чтобы проверить твое решение автотестами\n",
    "import base64\n",
    "import ipywidgets as widgets\n",
    "from IPython.display import display, clear_output\n",
    "\n",
    "b64code = \"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\"\n",
    "\n",
    "button = widgets.Button(description=\"Проверить решение\")\n",
    "out = widgets.Output()\n",
    "\n",
    "def on_button_clicked(b):\n",
    "    with out:\n",
    "        clear_output()\n",
    "        code = base64.b64decode(b64code).decode('utf-8')\n",
    "        exec(code, globals())\n",
    "\n",
    "button.on_click(on_button_clicked)\n",
    "display(button, out)"
   ]
  },
  {
   "cell_type": "markdown",
   "id": "347af8e3dd506167",
   "metadata": {
    "id": "347af8e3dd506167"
   },
   "source": [
    "### Задача 6\n",
    "\n",
    "Немного добавим UX в наш код:\n",
    "\n",
    "- Нужно не забывать, что пользователь может ввести в консоль ЧТО УГОДНО. Поэтому стоит обрабатывать кейс, когда\n",
    "  пользовательский ввод не `left, up, down, right`, и прямо писать об этом пользователю.\n",
    "- Не каждый ход `left, up, down, right` валидный. Например, в ситуации\n",
    "\n",
    "    ```\n",
    "    +-----+-----+-----+-----+\n",
    "    |     |     |     |     |\n",
    "    +-----+-----+-----+-----+\n",
    "    |     |     |     |     |\n",
    "    +-----+-----+-----+-----+\n",
    "    |  4  |     |     |     |\n",
    "    +-----+-----+-----+-----+\n",
    "    |  2  |     |     |     |\n",
    "    +-----+-----+-----+-----+\n",
    "   ```\n",
    "  невозможен ход влево, поэтому нужно выкинуть исключение внутри метода `move_left`, а в методе `run` его поймать и\n",
    "  обработать, передав пользователю, что такой ход невалидный.\n",
    "\n",
    "- Игра заканчивается в тот момент, когда мы не можем сделать какой-либо ход:\n",
    "    - Стоит сделать у `Field` метод `can_move(self) -> bool`, который будет возвращать, возможен ли вообще какой-либо\n",
    "      ход.\n",
    "    - Если возможного хода нет, надо завершить игру для пользователя.\n",
    "- А ещё игра завершается при появлении на поле значения 2048. Это тоже нужно отлавливать и говорить пользователю: «Молодец, игра закончена!»\n",
    "\n",
    "- А ещё неплохо пользователю иметь возможность закончить игру, написав stop в консоль.\n"
   ]
  },
  {
   "cell_type": "code",
   "execution_count": 43,
   "id": "ab1e36344ed083d7",
   "metadata": {
    "ExecuteTime": {
     "end_time": "2025-06-09T09:32:13.036748Z",
     "start_time": "2025-06-09T09:32:13.034754Z"
    },
    "id": "ab1e36344ed083d7"
   },
   "outputs": [],
   "source": [
    "# Напиши свой код тут"
   ]
  },
  {
   "cell_type": "code",
   "execution_count": 44,
   "id": "44c95ede-9557-4f37-b052-0f9a990ec9b7",
   "metadata": {},
   "outputs": [
    {
     "data": {
      "application/vnd.jupyter.widget-view+json": {
       "model_id": "0fa3e471415d49b29c899d7eb42de6b1",
       "version_major": 2,
       "version_minor": 0
      },
      "text/plain": [
       "Button(description='Проверить решение', style=ButtonStyle())"
      ]
     },
     "metadata": {},
     "output_type": "display_data"
    },
    {
     "data": {
      "application/vnd.jupyter.widget-view+json": {
       "model_id": "79f576ea9a0e405db061dda52423a96b",
       "version_major": 2,
       "version_minor": 0
      },
      "text/plain": [
       "Output()"
      ]
     },
     "metadata": {},
     "output_type": "display_data"
    }
   ],
   "source": [
    "# tests\n",
    "\n",
    "# Не редактуруй и не удаляй эту ячейку! \n",
    "# Запусти ее и нажми на кнопку \"Проверить решение\" чтобы проверить твое решение автотестами\n",
    "import base64\n",
    "import ipywidgets as widgets\n",
    "from IPython.display import display, clear_output\n",
    "\n",
    "b64code = \"ZGVmIHJ1bl9oaWRkZW5fdGVzdHMoKToKICAgIHJlc3VsdHMgPSBbXQoKICAgICMg0J/RgNC+0LLQtdGA0Y/QtdC8INC90LDQu9C40YfQuNC1INC60LvQsNGB0YHQsCBHYW1lINC4IEZpZWxkCiAgICBpZiAnR2FtZScgbm90IGluIGdsb2JhbHMoKToKICAgICAgICBwcmludCgi4p2MINCa0LvQsNGB0YEgR2FtZSDQvdC1INC90LDQudC00LXQvS4iKQogICAgICAgIHJldHVybgogICAgaWYgJ0ZpZWxkJyBub3QgaW4gZ2xvYmFscygpOgogICAgICAgIHByaW50KCLinYwg0JrQu9Cw0YHRgSBGaWVsZCDQvdC1INC90LDQudC00LXQvS4iKQogICAgICAgIHJldHVybgoKICAgICMg0J/RgNC+0LLQtdGA0Y/QtdC8INC90LDQu9C40YfQuNC1INC80LXRgtC+0LTQsCBjYW5fbW92ZSDRgyBGaWVsZAogICAgaWYgbm90IGhhc2F0dHIoRmllbGQsICdjYW5fbW92ZScpOgogICAgICAgIHJlc3VsdHMuYXBwZW5kKCLinYwg0KMg0LrQu9Cw0YHRgdCwIEZpZWxkINC90LXRgiDQvNC10YLQvtC00LAgY2FuX21vdmUuIikKICAgICAgICBwcmludCgnXG4nLmpvaW4ocmVzdWx0cykpCiAgICAgICAgcmV0dXJuCgogICAgIyDQotC10YHRgiAxOiBzdG9wINC30LDQstC10YDRiNCw0LXRgiDQuNCz0YDRgwogICAgZyA9IEdhbWUoKQogICAgaW5wdXRzID0gaXRlcihbInN0b3AiXSkKICAgIHByaW50ZWQgPSBbXQoKICAgIGRlZiBmYWtlX3ByaW50KCphcmdzLCAqKmt3YXJncyk6CiAgICAgICAgcHJpbnRlZC5hcHBlbmQoJyAnLmpvaW4oc3RyKGEpIGZvciBhIGluIGFyZ3MpKQoKICAgIGRlZiBmYWtlX2lucHV0KHByb21wdD0nJyk6CiAgICAgICAgcHJpbnRlZC5hcHBlbmQocHJvbXB0KQogICAgICAgIHJldHVybiBuZXh0KGlucHV0cykKCiAgICBvcmlnX3ByaW50ID0gX19idWlsdGluc19fLnByaW50CiAgICBvcmlnX2lucHV0ID0gX19idWlsdGluc19fLmlucHV0CiAgICBfX2J1aWx0aW5zX18ucHJpbnQgPSBmYWtlX3ByaW50CiAgICBfX2J1aWx0aW5zX18uaW5wdXQgPSBmYWtlX2lucHV0CiAgICB0cnk6CiAgICAgICAgZy5ydW4oKQogICAgICAgIHJlc3VsdHMuYXBwZW5kKCLinIUg0JjQs9GA0LAg0LfQsNCy0LXRgNGI0LDQtdGC0YHRjyDQv9C+INC60L7QvNCw0L3QtNC1IHN0b3AuIikKICAgIGV4Y2VwdCBFeGNlcHRpb24gYXMgZToKICAgICAgICByZXN1bHRzLmFwcGVuZChmIuKdjCDQntGI0LjQsdC60LAg0L/RgNC4IHN0b3A6IHtlfSIpCiAgICBmaW5hbGx5OgogICAgICAgIF9fYnVpbHRpbnNfXy5wcmludCA9IG9yaWdfcHJpbnQKICAgICAgICBfX2J1aWx0aW5zX18uaW5wdXQgPSBvcmlnX2lucHV0CgogICAgIyDQotC10YHRgiAyOiDQodC+0L7QsdGJ0LXQvdC40LUg0L4g0L3QtdC/0YDQsNCy0LjQu9GM0L3QvtC5INC60L7QvNCw0L3QtNC1CiAgICBnID0gR2FtZSgpCiAgICBmb3IgaSBpbiByYW5nZSg0KToKICAgICAgICBmb3IgaiBpbiByYW5nZSg0KToKICAgICAgICAgICAgZy5maWVsZC5maWVsZFtpXVtqXS52YWx1ZSA9IDAKICAgIGcuZmllbGQuZmllbGRbMF1bMF0udmFsdWUgPSAyCiAgICBnLmZpZWxkLmZpZWxkWzBdWzFdLnZhbHVlID0gMgogICAgaW5wdXRzID0gaXRlcihbImFiYyIsICJzdG9wIl0pCiAgICBwcmludGVkID0gW10KICAgIF9fYnVpbHRpbnNfXy5wcmludCA9IGZha2VfcHJpbnQKICAgIF9fYnVpbHRpbnNfXy5pbnB1dCA9IGZha2VfaW5wdXQKICAgIHRyeToKICAgICAgICBnLnJ1bigpCiAgICBleGNlcHQ6CiAgICAgICAgcGFzcwogICAgZmluYWxseToKICAgICAgICBfX2J1aWx0aW5zX18ucHJpbnQgPSBvcmlnX3ByaW50CiAgICAgICAgX19idWlsdGluc19fLmlucHV0ID0gb3JpZ19pbnB1dAogICAgaWYgYW55KCLQvdC10LrQvtGA0YDQtdC60YLQvdCw0Y8g0LrQvtC80LDQvdC00LAiIGluIGxpbmUubG93ZXIoKSBmb3IgbGluZSBpbiBwcmludGVkKToKICAgICAgICByZXN1bHRzLmFwcGVuZCgi4pyFINCh0L7QvtCx0YnQtdC90LjQtSDQviDQvdC10L/RgNCw0LLQuNC70YzQvdC+0Lkg0LrQvtC80LDQvdC00LUg0LLRi9Cy0L7QtNC40YLRgdGPLiIpCiAgICBlbHNlOgogICAgICAgIHJlc3VsdHMuYXBwZW5kKCLinYwg0J3QtdGCINGB0L7QvtCx0YnQtdC90LjRjyDQviDQvdC10L/RgNCw0LLQuNC70YzQvdC+0Lkg0LrQvtC80LDQvdC00LUuIikKCiAgICAjINCi0LXRgdGCIDM6INCd0LXQstC+0LfQvNC+0LbQvdGL0Lkg0YXQvtC0IOKAlCDRgdC+0L7QsdGJ0LXQvdC40LUKICAgIGcgPSBHYW1lKCkKICAgIGZvciBpIGluIHJhbmdlKDQpOgogICAgICAgIGZvciBqIGluIHJhbmdlKDQpOgogICAgICAgICAgICBnLmZpZWxkLmZpZWxkW2ldW2pdLnZhbHVlID0gMAogICAgZy5maWVsZC5maWVsZFswXVswXS52YWx1ZSA9IDIKICAgIGcuZmllbGQuZmllbGRbMF1bMV0udmFsdWUgPSA0CiAgICBpbnB1dHMgPSBpdGVyKFsibGVmdCIsICJzdG9wIl0pCiAgICBwcmludGVkID0gW10KICAgIF9fYnVpbHRpbnNfXy5wcmludCA9IGZha2VfcHJpbnQKICAgIF9fYnVpbHRpbnNfXy5pbnB1dCA9IGZha2VfaW5wdXQKICAgICMg0KfRgtC+0LHRiyBtb3ZlX2xlZnQg0LHRi9C7INC90LXQstC+0LfQvNC+0LbQtdC9ICjQvdC10YIg0YHQtNCy0LjQs9CwINC4INC90LXRgiDRgdC70LjRj9C90LjRjykKICAgIHRyeToKICAgICAgICBnLnJ1bigpCiAgICBleGNlcHQ6CiAgICAgICAgcGFzcwogICAgZmluYWxseToKICAgICAgICBfX2J1aWx0aW5zX18ucHJpbnQgPSBvcmlnX3ByaW50CiAgICAgICAgX19idWlsdGluc19fLmlucHV0ID0gb3JpZ19pbnB1dAogICAgaWYgYW55KCLQvdC10LLQvtC30LzQvtC20LXQvSIgaW4gbGluZS5sb3dlcigpIG9yICLQvdC10LvRjNC30Y8iIGluIGxpbmUubG93ZXIoKSBmb3IgbGluZSBpbiBwcmludGVkKToKICAgICAgICByZXN1bHRzLmFwcGVuZCgi4pyFINCf0YDQuCDQvdC10LLQvtC30LzQvtC20L3QvtC8INGF0L7QtNC1INCy0YvQstC+0LTQuNGC0YHRjyDRgdC+0L7RgtCy0LXRgtGB0YLQstGD0Y7RidC10LUg0YHQvtC+0LHRidC10L3QuNC1LiIpCiAgICBlbHNlOgogICAgICAgIHJlc3VsdHMuYXBwZW5kKCLinYwg0J3QtdGCINGB0L7QvtCx0YnQtdC90LjRjyDQviDQvdC10LLQvtC30LzQvtC20L3QvtC8INGF0L7QtNC1LiIpCgogICAgIyDQotC10YHRgiA0OiDQl9Cw0LLQtdGA0YjQtdC90LjQtSwg0LXRgdC70LggY2FuX21vdmUgPSBGYWxzZQogICAgZyA9IEdhbWUoKQogICAgIyDQl9Cw0L/QvtC70L3QuNC8INC/0L7Qu9C1INCx0LXQtyDQstC+0LfQvNC+0LbQvdC+0YHRgtC4INGB0LTQstC40LPQsC/RgdC70LjRj9C90LjRjwogICAgdmFscyA9IFtbMiwgNCwgMiwgNF0sIFs0LCAyLCA0LCAyXSwgWzIsIDQsIDIsIDRdLCBbNCwgMiwgNCwgMl1dCiAgICBmb3IgaSBpbiByYW5nZSg0KToKICAgICAgICBmb3IgaiBpbiByYW5nZSg0KToKICAgICAgICAgICAgZy5maWVsZC5maWVsZFtpXVtqXS52YWx1ZSA9IHZhbHNbaV1bal0KICAgICMg0JzQvtC00LXQu9C40YDRg9C10Lwg0LXQtNC40L3RgdGC0LLQtdC90L3Ri9C5INCy0LLQvtC0ICjRh9GC0L7QsdGLIHJ1biDQvNC+0LMg0L7RgtGA0LDQsdC+0YLQsNGC0Ywg0L7QtNC90YMg0LjRgtC10YDQsNGG0LjRjikKICAgIGlucHV0cyA9IGl0ZXIoWyJsZWZ0Il0pCiAgICBwcmludGVkID0gW10KICAgIF9fYnVpbHRpbnNfXy5wcmludCA9IGZha2VfcHJpbnQKICAgIF9fYnVpbHRpbnNfXy5pbnB1dCA9IGZha2VfaW5wdXQKICAgIHRyeToKICAgICAgICBnLnJ1bigpCiAgICBleGNlcHQ6CiAgICAgICAgcGFzcwogICAgZmluYWxseToKICAgICAgICBfX2J1aWx0aW5zX18ucHJpbnQgPSBvcmlnX3ByaW50CiAgICAgICAgX19idWlsdGluc19fLmlucHV0ID0gb3JpZ19pbnB1dAogICAgaWYgYW55KCLQuNCz0YDQsCDQvtC60L7QvdGH0LXQvdCwIiBpbiBsaW5lLmxvd2VyKCkgb3IgItGF0L7QtNC+0LIg0L3QtdGCIiBpbiBsaW5lLmxvd2VyKCkgZm9yIGxpbmUgaW4gcHJpbnRlZCk6CiAgICAgICAgcmVzdWx0cy5hcHBlbmQoIuKchSDQmNCz0YDQsCDQutC+0YDRgNC10LrRgtC90L4g0LfQsNCy0LXRgNGI0LDQtdGC0YHRjyDQv9GA0Lgg0L7RgtGB0YPRgtGB0YLQstC40Lgg0LLQvtC30LzQvtC20L3Ri9GFINGF0L7QtNC+0LIuIikKICAgIGVsc2U6CiAgICAgICAgcmVzdWx0cy5hcHBlbmQoIuKdjCDQndC10YIg0YHQvtC+0LHRidC10L3QuNGPINC+INC30LDQstC10YDRiNC10L3QuNC4INC40LPRgNGLINC/0YDQuCDQvtGC0YHRg9GC0YHRgtCy0LjQuCDRhdC+0LTQvtCyLiIpCgogICAgIyDQotC10YHRgiA1OiDQn9C+0LHQtdC00LAg0L/RgNC4INC/0L7Rj9Cy0LvQtdC90LjQuCAyMDQ4CiAgICBnID0gR2FtZSgpCiAgICBmb3IgaSBpbiByYW5nZSg0KToKICAgICAgICBmb3IgaiBpbiByYW5nZSg0KToKICAgICAgICAgICAgZy5maWVsZC5maWVsZFtpXVtqXS52YWx1ZSA9IDAKICAgIGcuZmllbGQuZmllbGRbMF1bMF0udmFsdWUgPSAyMDQ4CiAgICBpbnB1dHMgPSBpdGVyKFsibGVmdCJdKQogICAgcHJpbnRlZCA9IFtdCiAgICBfX2J1aWx0aW5zX18ucHJpbnQgPSBmYWtlX3ByaW50CiAgICBfX2J1aWx0aW5zX18uaW5wdXQgPSBmYWtlX2lucHV0CiAgICB0cnk6CiAgICAgICAgZy5ydW4oKQogICAgZXhjZXB0OgogICAgICAgIHBhc3MKICAgIGZpbmFsbHk6CiAgICAgICAgX19idWlsdGluc19fLnByaW50ID0gb3JpZ19wcmludAogICAgICAgIF9fYnVpbHRpbnNfXy5pbnB1dCA9IG9yaWdfaW5wdXQKICAgIGlmIGFueSgi0L/QvtCx0LXQtNCwIiBpbiBsaW5lLmxvd2VyKCkgZm9yIGxpbmUgaW4gcHJpbnRlZCkgb3IgYW55KCIyMDQ4IiBpbiBsaW5lIGZvciBsaW5lIGluIHByaW50ZWQpOgogICAgICAgIHJlc3VsdHMuYXBwZW5kKCLinIUg0JjQs9GA0LAg0LfQsNCy0LXRgNGI0LDQtdGCY9GPINC/0L7QsdC10LTQvtC5INC/0YDQuCAyMDQ4LiIpCiAgICBlbHNlOgogICAgICAgIHJlc3VsdHMuYXBwZW5kKCLinYwg0J3QtdGCINGB0L7QvtCx0YnQtdC90LjRjyDQviDQv9C+0LHQtdC00LUg0L/RgNC4IDIwNDguIikKCiAgICBwcmludCgnXG4nLmpvaW4ocmVzdWx0cykpCgoKcnVuX2hpZGRlbl90ZXN0cygpCg==\"\n",
    "\n",
    "button = widgets.Button(description=\"Проверить решение\")\n",
    "out = widgets.Output()\n",
    "\n",
    "def on_button_clicked(b):\n",
    "    with out:\n",
    "        clear_output()\n",
    "        code = base64.b64decode(b64code).decode('utf-8')\n",
    "        exec(code, globals())\n",
    "\n",
    "button.on_click(on_button_clicked)\n",
    "display(button, out)"
   ]
  },
  {
   "cell_type": "markdown",
   "id": "e6903de824a53fa5",
   "metadata": {
    "id": "e6903de824a53fa5"
   },
   "source": [
    "### Задача 7\n",
    "\n",
    "Иногда пользователю нужно куда-то уйти по своим делам, но игру же не хочется бросать — поэтому нужен функционал\n",
    "сохранения игры и последующей загрузки её из файла:\n",
    "\n",
    "- Реализуй метод `load(self, filename: str)` класса `Field`, который загрузит поле из файла.\n",
    "- Реализуй метод `save(self, filename: str)` класса `Field`, который сохранит поле в файл.\n",
    "- Реализуй в методе `run` класса `Game` вопрос пользователю о том, в какой файл нужно сохранять результаты игры (из\n",
    "  этого же файла должно подтягиваться текущее состояние игры).\n",
    "- Советуем после каждого хода сохранять текущее состояние игры, а то у пользователя может случайно отключиться твоя программа, а он точно хочет продолжить с того же места :)\n",
    "\n",
    "**Важно.** Содержимое файла должно быть таким же, как вывод метода `print` у класса `Field`. А также файл может быть\n",
    "пустым или его может не быть — не забудь обработать такие кейсы."
   ]
  },
  {
   "cell_type": "code",
   "execution_count": 45,
   "id": "f23525fdadb1ecc6",
   "metadata": {
    "ExecuteTime": {
     "end_time": "2025-06-09T09:32:15.557699Z",
     "start_time": "2025-06-09T09:32:15.555689Z"
    },
    "id": "f23525fdadb1ecc6"
   },
   "outputs": [],
   "source": [
    "# Напиши свой код тут"
   ]
  },
  {
   "cell_type": "code",
   "execution_count": 46,
   "id": "6f115c16-21fe-4d92-8068-5f2c9e4bb8c7",
   "metadata": {},
   "outputs": [
    {
     "data": {
      "application/vnd.jupyter.widget-view+json": {
       "model_id": "6978a38916704c288aa7f6dd0f2c3ddc",
       "version_major": 2,
       "version_minor": 0
      },
      "text/plain": [
       "Button(description='Проверить решение', style=ButtonStyle())"
      ]
     },
     "metadata": {},
     "output_type": "display_data"
    },
    {
     "data": {
      "application/vnd.jupyter.widget-view+json": {
       "model_id": "10245dbf85ef4bc0b92be148c10e692e",
       "version_major": 2,
       "version_minor": 0
      },
      "text/plain": [
       "Output()"
      ]
     },
     "metadata": {},
     "output_type": "display_data"
    }
   ],
   "source": [
    "# tests\n",
    "\n",
    "# Не редактуруй и не удаляй эту ячейку! \n",
    "# Запусти ее и нажми на кнопку \"Проверить решение\" чтобы проверить твое решение автотестами\n",
    "import base64\n",
    "import ipywidgets as widgets\n",
    "from IPython.display import display, clear_output\n",
    "\n",
    "b64code = \"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\"\n",
    "\n",
    "button = widgets.Button(description=\"Проверить решение\")\n",
    "out = widgets.Output()\n",
    "\n",
    "def on_button_clicked(b):\n",
    "    with out:\n",
    "        clear_output()\n",
    "        code = base64.b64decode(b64code).decode('utf-8')\n",
    "        exec(code, globals())\n",
    "\n",
    "button.on_click(on_button_clicked)\n",
    "display(button, out)"
   ]
  },
  {
   "cell_type": "markdown",
   "id": "139fe7feb551d3ef",
   "metadata": {
    "id": "139fe7feb551d3ef"
   },
   "source": [
    "### Задача 8 — Дополнительное задание\n",
    "\n",
    "Вдруг пользователь захотел сделать так, чтобы поле было не просто $4\\times4$, а $N\\times N$. А ещё он хочет играть до\n",
    "момента, пока на доске не появится число $2^x$. Спроси перед началом игры, с какими настройками хочет играть\n",
    "пользователь, а потом реализуй логику работы для такой модификации игры."
   ]
  },
  {
   "cell_type": "code",
   "execution_count": 47,
   "id": "f711ba945e870608",
   "metadata": {
    "ExecuteTime": {
     "end_time": "2025-06-09T09:32:17.860592Z",
     "start_time": "2025-06-09T09:32:17.858668Z"
    },
    "id": "f711ba945e870608"
   },
   "outputs": [],
   "source": [
    "# Напиши свой код тут"
   ]
  },
  {
   "cell_type": "code",
   "execution_count": 48,
   "id": "1b4abb74-b73e-40b2-b080-154211aeafe4",
   "metadata": {},
   "outputs": [
    {
     "data": {
      "application/vnd.jupyter.widget-view+json": {
       "model_id": "0dd9b80edbdc48318558ed34beb2e420",
       "version_major": 2,
       "version_minor": 0
      },
      "text/plain": [
       "Button(description='Проверить решение', style=ButtonStyle())"
      ]
     },
     "metadata": {},
     "output_type": "display_data"
    },
    {
     "data": {
      "application/vnd.jupyter.widget-view+json": {
       "model_id": "30c8332ef9484a80990875c2e678cfd9",
       "version_major": 2,
       "version_minor": 0
      },
      "text/plain": [
       "Output()"
      ]
     },
     "metadata": {},
     "output_type": "display_data"
    }
   ],
   "source": [
    "# tests\n",
    "\n",
    "# Не редактуруй и не удаляй эту ячейку! \n",
    "# Запусти ее и нажми на кнопку \"Проверить решение\" чтобы проверить твое решение автотестами\n",
    "import base64\n",
    "import ipywidgets as widgets\n",
    "from IPython.display import display, clear_output\n",
    "\n",
    "b64code = \"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\"\n",
    "\n",
    "button = widgets.Button(description=\"Проверить решение\")\n",
    "out = widgets.Output()\n",
    "\n",
    "def on_button_clicked(b):\n",
    "    with out:\n",
    "        clear_output()\n",
    "        code = base64.b64decode(b64code).decode('utf-8')\n",
    "        exec(code, globals())\n",
    "\n",
    "button.on_click(on_button_clicked)\n",
    "display(button, out)"
   ]
  },
  {
   "cell_type": "markdown",
   "id": "b870d6dca836dbae",
   "metadata": {
    "id": "b870d6dca836dbae"
   },
   "source": [
    "## **Исходные данные и источники**\n",
    "\n",
    "- **Документация/кодбук**\n",
    "    - Подробнее про модуль random — https://metanit.com/python/tutorial/6.1.php.\n",
    "\n",
    "- **Пример игры**\n",
    "    - Уже готовая игра, логика твоего 2048 должна быть похожа на неё — https://play2048.co."
   ]
  },
  {
   "cell_type": "markdown",
   "id": "da129182e225c2af",
   "metadata": {
    "id": "da129182e225c2af"
   },
   "source": [
    "# Формат сдачи проекта\n",
    "\n",
    "Тебе будет нужно просто сдать этот `jupyter notebook`."
   ]
  },
  {
   "cell_type": "markdown",
   "id": "53f88ea414c2f131",
   "metadata": {
    "id": "53f88ea414c2f131"
   },
   "source": [
    "# Оценивание проекта\n",
    "\n",
    "Проверяющий оценивает проект на основе критериев, которые указаны под каждым заданием.\n",
    "Максимальное количество баллов за проект — **100**."
   ]
  },
  {
   "cell_type": "markdown",
   "id": "2d97e805f681d512",
   "metadata": {
    "id": "2d97e805f681d512"
   },
   "source": [
    "\n",
    "| Критерий                                                                                                                                                                  | Баллы |\n",
    "|---------------------------------------------------------------------------------------------------------------------------------------------------------------------------|-------|\n",
    "| Класс `Field` корректно создаёт поле $4 \\times 4$, выводит его в консоль в заданном формате                                                                               | 10    |\n",
    "| Класс `FieldCell` реализует: инициализацию ячеек (0/2/4), корректный текстовый вывод значений, логику слияния значений двух ячеек                                         | 10    |\n",
    "| Поле (`Field`) состоит из экземпляров `FieldCell`, используется их метод для текстового вывода, реализован метод выбора случайной пустой клетки для инициализации 2 или 4 | 10    |\n",
    "| Реализована логика ходов (`move_left`, `move_right`, `move_up`, `move_down`), после успешного хода вызывается метод инициализации новой клетки                            | 20    |\n",
    "| Класс `Game` инкапсулирует взаимодействие с пользователем: запрашивает ввод, запускает игровой цикл, выводит поле после каждого хода                                      | 10    |\n",
    "| Корректно обрабатываются некорректные ходы пользователя (невалидные команды) и недопустимые ходы (когда поле не изменяется)                                               | 10    |\n",
    "| Реализован корректный вывод сообщения об окончании игры: при невозможности сделать ход и при достижении 2048                                                              | 5     |\n",
    "| Реализована возможность сохранять и загружать состояние поля (`Field.save` и `Field.load`), включая корректную обработку отсутствия/пустого файла                         | 10    |\n",
    "| Реализован выбор файла для загрузки/сохранения через пользовательский интерфейс (`input`), а также автосохранение состояния после каждого хода                            | 5     |\n",
    "| Код соответствует PEP 8: имена переменных, оформление, читаемость                                                                                                         | 10    |\n",
    "| Добавлена возможность игры на поле произвольного размера  ($N \\times N$)                                                                                                  | 20    |\n",
    "\n",
    "> Максимум по основным критериям — 100 баллов. Бонусы могут добавить ещё до 20 баллов сверх этого потолка."
   ]
  },
  {
   "cell_type": "markdown",
   "id": "9f4da75f6031c427",
   "metadata": {
    "id": "9f4da75f6031c427"
   },
   "source": [
    "Баллы за выполнение всех заданий суммируются и конвертируются в итоговую оценку по **10-балльной** шкале.\n",
    "\n",
    "Таблица конвертации 100-балльной оценки в 10-балльную шкалу:\n",
    "\n",
    "| Баллы  | Оценка |\n",
    "|--------|--------|\n",
    "| 91–100 | 10     |\n",
    "| 81–90  | 9      |\n",
    "| 71–80  | 8      |\n",
    "| 61–70  | 7      |\n",
    "| 51–60  | 6      |\n",
    "| 41–50  | 5      |\n",
    "| 31–40  | 4      |\n",
    "| 21–30  | 3      |\n",
    "| 11–20  | 2      |\n",
    "| 1–10   | 1      |\n",
    "| 0      | 0      |\n"
   ]
  },
  {
   "cell_type": "markdown",
   "id": "14c857554d89b9fc",
   "metadata": {
    "id": "14c857554d89b9fc"
   },
   "source": [
    "# Удачного кодинга!"
   ]
  }
 ],
 "metadata": {
  "colab": {
   "provenance": []
  },
  "kernelspec": {
   "display_name": "Python 3",
   "language": "python",
   "name": "python3"
  },
  "language_info": {
   "codemirror_mode": {
    "name": "ipython",
    "version": 3
   },
   "file_extension": ".py",
   "mimetype": "text/x-python",
   "name": "python",
   "nbconvert_exporter": "python",
   "pygments_lexer": "ipython3",
   "version": "3.9.6"
  }
 },
 "nbformat": 4,
 "nbformat_minor": 5
}
